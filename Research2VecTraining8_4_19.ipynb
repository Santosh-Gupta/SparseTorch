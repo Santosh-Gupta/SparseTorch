{
  "nbformat": 4,
  "nbformat_minor": 0,
  "metadata": {
    "colab": {
      "name": "Research2VecTraining8-4-19.ipynb",
      "version": "0.3.2",
      "provenance": [],
      "toc_visible": true,
      "machine_shape": "hm",
      "include_colab_link": true
    },
    "kernelspec": {
      "name": "python3",
      "display_name": "Python 3"
    }
  },
  "cells": [
    {
      "cell_type": "markdown",
      "metadata": {
        "id": "view-in-github",
        "colab_type": "text"
      },
      "source": [
        "<a href=\"https://colab.research.google.com/github/Santosh-Gupta/SparseTorch/blob/master/Research2VecTraining8_4_19.ipynb\" target=\"_parent\"><img src=\"https://colab.research.google.com/assets/colab-badge.svg\" alt=\"Open In Colab\"/></a>"
      ]
    },
    {
      "cell_type": "code",
      "metadata": {
        "id": "cz8FsZRH99zd",
        "colab_type": "code",
        "colab": {
          "base_uri": "https://localhost:8080/",
          "height": 52
        },
        "outputId": "c5460750-bfa9-4d35-94d3-56639cee9d28"
      },
      "source": [
        "import math\n",
        "import numpy as np\n",
        "import random\n",
        "import zipfile\n",
        "import os\n",
        "import tensorflow as tf\n",
        "import pandas as pd\n",
        "import pickle\n",
        "\n",
        "!pip install -U -q PyDrive\n",
        "\n",
        "from google.colab import files\n",
        "from pydrive.auth import GoogleAuth\n",
        "from pydrive.drive import GoogleDrive\n",
        "from google.colab import auth\n",
        "from oauth2client.client import GoogleCredentials\n",
        "\n",
        "from numpy import genfromtxt\n",
        "\n",
        "auth.authenticate_user()\n",
        "gauth = GoogleAuth()\n",
        "gauth.credentials = GoogleCredentials.get_application_default()\n",
        "drive = GoogleDrive(gauth)\n",
        "\n",
        "vocabulary_size = 1666577 \n",
        "\n",
        "# tf.logging.set_verbosity(tf.logging.ERROR)"
      ],
      "execution_count": 3,
      "outputs": [
        {
          "output_type": "stream",
          "text": [
            "\u001b[?25l\r\u001b[K     |▎                               | 10kB 15.6MB/s eta 0:00:01\r\u001b[K     |▋                               | 20kB 1.8MB/s eta 0:00:01\r\u001b[K     |█                               | 30kB 2.6MB/s eta 0:00:01\r\u001b[K     |█▎                              | 40kB 1.7MB/s eta 0:00:01\r\u001b[K     |█▋                              | 51kB 2.1MB/s eta 0:00:01\r\u001b[K     |██                              | 61kB 2.5MB/s eta 0:00:01\r\u001b[K     |██▎                             | 71kB 2.9MB/s eta 0:00:01\r\u001b[K     |██▋                             | 81kB 2.3MB/s eta 0:00:01\r\u001b[K     |███                             | 92kB 2.5MB/s eta 0:00:01\r\u001b[K     |███▎                            | 102kB 2.8MB/s eta 0:00:01\r\u001b[K     |███▋                            | 112kB 2.8MB/s eta 0:00:01\r\u001b[K     |████                            | 122kB 2.8MB/s eta 0:00:01\r\u001b[K     |████▎                           | 133kB 2.8MB/s eta 0:00:01\r\u001b[K     |████▋                           | 143kB 2.8MB/s eta 0:00:01\r\u001b[K     |█████                           | 153kB 2.8MB/s eta 0:00:01\r\u001b[K     |█████▎                          | 163kB 2.8MB/s eta 0:00:01\r\u001b[K     |█████▋                          | 174kB 2.8MB/s eta 0:00:01\r\u001b[K     |██████                          | 184kB 2.8MB/s eta 0:00:01\r\u001b[K     |██████▎                         | 194kB 2.8MB/s eta 0:00:01\r\u001b[K     |██████▋                         | 204kB 2.8MB/s eta 0:00:01\r\u001b[K     |███████                         | 215kB 2.8MB/s eta 0:00:01\r\u001b[K     |███████▎                        | 225kB 2.8MB/s eta 0:00:01\r\u001b[K     |███████▋                        | 235kB 2.8MB/s eta 0:00:01\r\u001b[K     |████████                        | 245kB 2.8MB/s eta 0:00:01\r\u001b[K     |████████▎                       | 256kB 2.8MB/s eta 0:00:01\r\u001b[K     |████████▋                       | 266kB 2.8MB/s eta 0:00:01\r\u001b[K     |█████████                       | 276kB 2.8MB/s eta 0:00:01\r\u001b[K     |█████████▎                      | 286kB 2.8MB/s eta 0:00:01\r\u001b[K     |█████████▋                      | 296kB 2.8MB/s eta 0:00:01\r\u001b[K     |██████████                      | 307kB 2.8MB/s eta 0:00:01\r\u001b[K     |██████████▎                     | 317kB 2.8MB/s eta 0:00:01\r\u001b[K     |██████████▋                     | 327kB 2.8MB/s eta 0:00:01\r\u001b[K     |███████████                     | 337kB 2.8MB/s eta 0:00:01\r\u001b[K     |███████████▎                    | 348kB 2.8MB/s eta 0:00:01\r\u001b[K     |███████████▋                    | 358kB 2.8MB/s eta 0:00:01\r\u001b[K     |████████████                    | 368kB 2.8MB/s eta 0:00:01\r\u001b[K     |████████████▎                   | 378kB 2.8MB/s eta 0:00:01\r\u001b[K     |████████████▋                   | 389kB 2.8MB/s eta 0:00:01\r\u001b[K     |█████████████                   | 399kB 2.8MB/s eta 0:00:01\r\u001b[K     |█████████████▎                  | 409kB 2.8MB/s eta 0:00:01\r\u001b[K     |█████████████▋                  | 419kB 2.8MB/s eta 0:00:01\r\u001b[K     |██████████████                  | 430kB 2.8MB/s eta 0:00:01\r\u001b[K     |██████████████▎                 | 440kB 2.8MB/s eta 0:00:01\r\u001b[K     |██████████████▋                 | 450kB 2.8MB/s eta 0:00:01\r\u001b[K     |███████████████                 | 460kB 2.8MB/s eta 0:00:01\r\u001b[K     |███████████████▎                | 471kB 2.8MB/s eta 0:00:01\r\u001b[K     |███████████████▋                | 481kB 2.8MB/s eta 0:00:01\r\u001b[K     |████████████████                | 491kB 2.8MB/s eta 0:00:01\r\u001b[K     |████████████████▎               | 501kB 2.8MB/s eta 0:00:01\r\u001b[K     |████████████████▋               | 512kB 2.8MB/s eta 0:00:01\r\u001b[K     |█████████████████               | 522kB 2.8MB/s eta 0:00:01\r\u001b[K     |█████████████████▎              | 532kB 2.8MB/s eta 0:00:01\r\u001b[K     |█████████████████▋              | 542kB 2.8MB/s eta 0:00:01\r\u001b[K     |██████████████████              | 552kB 2.8MB/s eta 0:00:01\r\u001b[K     |██████████████████▎             | 563kB 2.8MB/s eta 0:00:01\r\u001b[K     |██████████████████▋             | 573kB 2.8MB/s eta 0:00:01\r\u001b[K     |███████████████████             | 583kB 2.8MB/s eta 0:00:01\r\u001b[K     |███████████████████▎            | 593kB 2.8MB/s eta 0:00:01\r\u001b[K     |███████████████████▋            | 604kB 2.8MB/s eta 0:00:01\r\u001b[K     |████████████████████            | 614kB 2.8MB/s eta 0:00:01\r\u001b[K     |████████████████████▎           | 624kB 2.8MB/s eta 0:00:01\r\u001b[K     |████████████████████▋           | 634kB 2.8MB/s eta 0:00:01\r\u001b[K     |█████████████████████           | 645kB 2.8MB/s eta 0:00:01\r\u001b[K     |█████████████████████▎          | 655kB 2.8MB/s eta 0:00:01\r\u001b[K     |█████████████████████▋          | 665kB 2.8MB/s eta 0:00:01\r\u001b[K     |██████████████████████          | 675kB 2.8MB/s eta 0:00:01\r\u001b[K     |██████████████████████▎         | 686kB 2.8MB/s eta 0:00:01\r\u001b[K     |██████████████████████▋         | 696kB 2.8MB/s eta 0:00:01\r\u001b[K     |███████████████████████         | 706kB 2.8MB/s eta 0:00:01\r\u001b[K     |███████████████████████▎        | 716kB 2.8MB/s eta 0:00:01\r\u001b[K     |███████████████████████▋        | 727kB 2.8MB/s eta 0:00:01\r\u001b[K     |████████████████████████        | 737kB 2.8MB/s eta 0:00:01\r\u001b[K     |████████████████████████▎       | 747kB 2.8MB/s eta 0:00:01\r\u001b[K     |████████████████████████▋       | 757kB 2.8MB/s eta 0:00:01\r\u001b[K     |████████████████████████▉       | 768kB 2.8MB/s eta 0:00:01\r\u001b[K     |█████████████████████████▏      | 778kB 2.8MB/s eta 0:00:01\r\u001b[K     |█████████████████████████▌      | 788kB 2.8MB/s eta 0:00:01\r\u001b[K     |█████████████████████████▉      | 798kB 2.8MB/s eta 0:00:01\r\u001b[K     |██████████████████████████▏     | 808kB 2.8MB/s eta 0:00:01\r\u001b[K     |██████████████████████████▌     | 819kB 2.8MB/s eta 0:00:01\r\u001b[K     |██████████████████████████▉     | 829kB 2.8MB/s eta 0:00:01\r\u001b[K     |███████████████████████████▏    | 839kB 2.8MB/s eta 0:00:01\r\u001b[K     |███████████████████████████▌    | 849kB 2.8MB/s eta 0:00:01\r\u001b[K     |███████████████████████████▉    | 860kB 2.8MB/s eta 0:00:01\r\u001b[K     |████████████████████████████▏   | 870kB 2.8MB/s eta 0:00:01\r\u001b[K     |████████████████████████████▌   | 880kB 2.8MB/s eta 0:00:01\r\u001b[K     |████████████████████████████▉   | 890kB 2.8MB/s eta 0:00:01\r\u001b[K     |█████████████████████████████▏  | 901kB 2.8MB/s eta 0:00:01\r\u001b[K     |█████████████████████████████▌  | 911kB 2.8MB/s eta 0:00:01\r\u001b[K     |█████████████████████████████▉  | 921kB 2.8MB/s eta 0:00:01\r\u001b[K     |██████████████████████████████▏ | 931kB 2.8MB/s eta 0:00:01\r\u001b[K     |██████████████████████████████▌ | 942kB 2.8MB/s eta 0:00:01\r\u001b[K     |██████████████████████████████▉ | 952kB 2.8MB/s eta 0:00:01\r\u001b[K     |███████████████████████████████▏| 962kB 2.8MB/s eta 0:00:01\r\u001b[K     |███████████████████████████████▌| 972kB 2.8MB/s eta 0:00:01\r\u001b[K     |███████████████████████████████▉| 983kB 2.8MB/s eta 0:00:01\r\u001b[K     |████████████████████████████████| 993kB 2.8MB/s \n",
            "\u001b[?25h  Building wheel for PyDrive (setup.py) ... \u001b[?25l\u001b[?25hdone\n"
          ],
          "name": "stdout"
        }
      ]
    },
    {
      "cell_type": "code",
      "metadata": {
        "id": "61iA1a4z_-nb",
        "colab_type": "code",
        "colab": {}
      },
      "source": [
        "# os.remove('adc.json')"
      ],
      "execution_count": 0,
      "outputs": []
    },
    {
      "cell_type": "code",
      "metadata": {
        "id": "dgIdEN78w7ne",
        "colab_type": "code",
        "colab": {}
      },
      "source": [
        "#https://drive.google.com/open?id=1mdF0JfrzbOxeHD26JaUW8KEfIdMEHzQG"
      ],
      "execution_count": 0,
      "outputs": []
    },
    {
      "cell_type": "code",
      "metadata": {
        "id": "nW9LJi9FshOE",
        "colab_type": "code",
        "outputId": "c6e0e6ed-1bec-47af-fef4-0451a6876f20",
        "colab": {
          "base_uri": "https://localhost:8080/",
          "height": 35
        }
      },
      "source": [
        "#link to hold dictionary folder https://drive.google.com/drive/u/0/folders/1q2D8xlzyQmUjggLStsfVEtgq3_GWxcKl\n",
        "#in san gupta ml\n",
        "dl_id = input(\"Enter Gdrive file ID for Title dictionary: \") # 9-10-18 1mdF0JfrzbOxeHD26JaUW8KEfIdMEHzQG\n",
        "\n",
        "thefile = drive.CreateFile({'id': dl_id})\n",
        "thefile.GetContentFile('titleDict.pickle')\n",
        "\n",
        "with open('titleDict.pickle', 'rb') as handle:\n",
        "    bookDictionary = pickle.load(handle)"
      ],
      "execution_count": 5,
      "outputs": [
        {
          "output_type": "stream",
          "text": [
            "Enter Gdrive file ID for Title dictionary: 1mdF0JfrzbOxeHD26JaUW8KEfIdMEHzQG\n"
          ],
          "name": "stdout"
        }
      ]
    },
    {
      "cell_type": "code",
      "metadata": {
        "id": "4PJZP-OkwQhV",
        "colab_type": "code",
        "colab": {
          "base_uri": "https://localhost:8080/",
          "height": 35
        },
        "outputId": "6920744e-b6d5-4b8f-c7a7-4e5210e9867d"
      },
      "source": [
        "bookDictionary[5]"
      ],
      "execution_count": 6,
      "outputs": [
        {
          "output_type": "execute_result",
          "data": {
            "text/plain": [
              "'One-way Loss Pattern Sample Metrics'"
            ]
          },
          "metadata": {
            "tags": []
          },
          "execution_count": 6
        }
      ]
    },
    {
      "cell_type": "code",
      "metadata": {
        "id": "BBc9exLkwBdm",
        "colab_type": "code",
        "outputId": "5dd6c9a0-23fb-409d-e1d1-9a51faa34e8f",
        "colab": {
          "base_uri": "https://localhost:8080/",
          "height": 382
        }
      },
      "source": [
        "dl_id = input(\"Enter Gdrive file ID for Data \") # 9-10-18 1RHVwT1slwbhPlNTTF1JKS7agc4hQSm5c\n",
        "\n",
        "myDownload = drive.CreateFile({'id': dl_id})\n",
        "myDownload.GetContentFile('Data.npy')\n",
        "my_data = np.load('Data.npy', allow_pickle=True)\n",
        "print(my_data[0:15])"
      ],
      "execution_count": 4,
      "outputs": [
        {
          "output_type": "stream",
          "text": [
            "Enter Gdrive file ID for Data 1RHVwT1slwbhPlNTTF1JKS7agc4hQSm5c\n"
          ],
          "name": "stdout"
        },
        {
          "output_type": "error",
          "ename": "ValueError",
          "evalue": "ignored",
          "traceback": [
            "\u001b[0;31m---------------------------------------------------------------------------\u001b[0m",
            "\u001b[0;31mValueError\u001b[0m                                Traceback (most recent call last)",
            "\u001b[0;32m<ipython-input-4-2f759a27f890>\u001b[0m in \u001b[0;36m<module>\u001b[0;34m()\u001b[0m\n\u001b[1;32m      3\u001b[0m \u001b[0mmyDownload\u001b[0m \u001b[0;34m=\u001b[0m \u001b[0mdrive\u001b[0m\u001b[0;34m.\u001b[0m\u001b[0mCreateFile\u001b[0m\u001b[0;34m(\u001b[0m\u001b[0;34m{\u001b[0m\u001b[0;34m'id'\u001b[0m\u001b[0;34m:\u001b[0m \u001b[0mdl_id\u001b[0m\u001b[0;34m}\u001b[0m\u001b[0;34m)\u001b[0m\u001b[0;34m\u001b[0m\u001b[0;34m\u001b[0m\u001b[0m\n\u001b[1;32m      4\u001b[0m \u001b[0mmyDownload\u001b[0m\u001b[0;34m.\u001b[0m\u001b[0mGetContentFile\u001b[0m\u001b[0;34m(\u001b[0m\u001b[0;34m'Data.npy'\u001b[0m\u001b[0;34m)\u001b[0m\u001b[0;34m\u001b[0m\u001b[0;34m\u001b[0m\u001b[0m\n\u001b[0;32m----> 5\u001b[0;31m \u001b[0mmy_data\u001b[0m \u001b[0;34m=\u001b[0m \u001b[0mnp\u001b[0m\u001b[0;34m.\u001b[0m\u001b[0mload\u001b[0m\u001b[0;34m(\u001b[0m\u001b[0;34m'Data.npy'\u001b[0m\u001b[0;34m)\u001b[0m\u001b[0;34m\u001b[0m\u001b[0;34m\u001b[0m\u001b[0m\n\u001b[0m\u001b[1;32m      6\u001b[0m \u001b[0mprint\u001b[0m\u001b[0;34m(\u001b[0m\u001b[0mmy_data\u001b[0m\u001b[0;34m[\u001b[0m\u001b[0;36m0\u001b[0m\u001b[0;34m:\u001b[0m\u001b[0;36m15\u001b[0m\u001b[0;34m]\u001b[0m\u001b[0;34m)\u001b[0m\u001b[0;34m\u001b[0m\u001b[0;34m\u001b[0m\u001b[0m\n",
            "\u001b[0;32m/usr/local/lib/python3.6/dist-packages/numpy/lib/npyio.py\u001b[0m in \u001b[0;36mload\u001b[0;34m(file, mmap_mode, allow_pickle, fix_imports, encoding)\u001b[0m\n\u001b[1;32m    445\u001b[0m             \u001b[0;32melse\u001b[0m\u001b[0;34m:\u001b[0m\u001b[0;34m\u001b[0m\u001b[0;34m\u001b[0m\u001b[0m\n\u001b[1;32m    446\u001b[0m                 return format.read_array(fid, allow_pickle=allow_pickle,\n\u001b[0;32m--> 447\u001b[0;31m                                          pickle_kwargs=pickle_kwargs)\n\u001b[0m\u001b[1;32m    448\u001b[0m         \u001b[0;32melse\u001b[0m\u001b[0;34m:\u001b[0m\u001b[0;34m\u001b[0m\u001b[0;34m\u001b[0m\u001b[0m\n\u001b[1;32m    449\u001b[0m             \u001b[0;31m# Try a pickle\u001b[0m\u001b[0;34m\u001b[0m\u001b[0;34m\u001b[0m\u001b[0;34m\u001b[0m\u001b[0m\n",
            "\u001b[0;32m/usr/local/lib/python3.6/dist-packages/numpy/lib/format.py\u001b[0m in \u001b[0;36mread_array\u001b[0;34m(fp, allow_pickle, pickle_kwargs)\u001b[0m\n\u001b[1;32m    694\u001b[0m         \u001b[0;31m# The array contained Python objects. We need to unpickle the data.\u001b[0m\u001b[0;34m\u001b[0m\u001b[0;34m\u001b[0m\u001b[0;34m\u001b[0m\u001b[0m\n\u001b[1;32m    695\u001b[0m         \u001b[0;32mif\u001b[0m \u001b[0;32mnot\u001b[0m \u001b[0mallow_pickle\u001b[0m\u001b[0;34m:\u001b[0m\u001b[0;34m\u001b[0m\u001b[0;34m\u001b[0m\u001b[0m\n\u001b[0;32m--> 696\u001b[0;31m             raise ValueError(\"Object arrays cannot be loaded when \"\n\u001b[0m\u001b[1;32m    697\u001b[0m                              \"allow_pickle=False\")\n\u001b[1;32m    698\u001b[0m         \u001b[0;32mif\u001b[0m \u001b[0mpickle_kwargs\u001b[0m \u001b[0;32mis\u001b[0m \u001b[0;32mNone\u001b[0m\u001b[0;34m:\u001b[0m\u001b[0;34m\u001b[0m\u001b[0;34m\u001b[0m\u001b[0m\n",
            "\u001b[0;31mValueError\u001b[0m: Object arrays cannot be loaded when allow_pickle=False"
          ]
        }
      ]
    },
    {
      "cell_type": "code",
      "metadata": {
        "id": "NE2HW6llJZtC",
        "colab_type": "code",
        "outputId": "7521d886-07b5-4ba6-bfee-bb787e616203",
        "colab": {
          "base_uri": "https://localhost:8080/",
          "height": 708
        }
      },
      "source": [
        "data_index = 0\n",
        "epoch_index = 0\n",
        "recEpoch_indexA = 0 #Used to help keep store of the total number of epoches with the models\n",
        "\n",
        "def generate_batch(batch_size, inputCount): #batch size = number of labels\n",
        "  #inputCount = number of inputs per label\n",
        "    global data_index, epoch_index\n",
        "    \n",
        "    batch = np.ndarray(shape=(batch_size, inputCount), dtype=np.int32) \n",
        "    labels = np.ndarray(shape=(batch_size, 1), dtype=np.int32)\n",
        "    \n",
        "    n=0\n",
        "    while n < batch_size:\n",
        "      if len(    set(my_data[data_index, 1])   ) >= inputCount:\n",
        "        labels[n,0] = my_data[data_index, 0]\n",
        "        batch[n] = random.sample( set(my_data[data_index, 1]),  inputCount)\n",
        "        n = n+1\n",
        "        data_index = (data_index + 1) % len(my_data) #may have to do something like len my_data[:]\n",
        "        if data_index == 0:\n",
        "          epoch_index = epoch_index + 1\n",
        "          print('Completed %d Epochs' % epoch_index)\n",
        "      else:\n",
        "        data_index = (data_index + 1) % len(my_data)\n",
        "        if data_index == 0:\n",
        "          epoch_index = epoch_index + 1\n",
        "          print('Completed %d Epochs' % epoch_index)\n",
        "    \n",
        "    return batch, labels     \n",
        "      \n",
        "here, goes = generate_batch(20, 4) # to do next, insert %len(headernumber)\n",
        "print('batch', here)\n",
        "print('labels', goes)"
      ],
      "execution_count": 6,
      "outputs": [
        {
          "output_type": "stream",
          "text": [
            "batch [[ 510776  734702 1448326 1256014]\n",
            " [ 572983  431318  324439  168364]\n",
            " [ 951671  646875 1022675  910689]\n",
            " [1060750  914246  457861 1193128]\n",
            " [1437081  812990 1384755  300318]\n",
            " [ 145841  537201  877387  743717]\n",
            " [ 738525  381440 1406008  727615]\n",
            " [ 891973 1000807 1115942 1592057]\n",
            " [ 735748  260217  596114  576441]\n",
            " [ 881771  239877  863739  295417]\n",
            " [1255078 1395063 1651253  369818]\n",
            " [ 985816  769933 1171127   24147]\n",
            " [1369264 1135510  336068 1425951]\n",
            " [  33171 1067304 1060572  286200]\n",
            " [ 319694 1595297  543614  905572]\n",
            " [ 264237  381248  396562  145147]\n",
            " [ 391622  947622   35913 1325093]\n",
            " [1078309 1097516 1185471 1593042]\n",
            " [1011069 1499404 1474910  502310]\n",
            " [ 474993 1384644  410294  177826]]\n",
            "labels [[ 1]\n",
            " [ 3]\n",
            " [ 4]\n",
            " [ 5]\n",
            " [ 7]\n",
            " [ 8]\n",
            " [ 9]\n",
            " [10]\n",
            " [11]\n",
            " [12]\n",
            " [14]\n",
            " [15]\n",
            " [17]\n",
            " [18]\n",
            " [19]\n",
            " [20]\n",
            " [21]\n",
            " [22]\n",
            " [23]\n",
            " [24]]\n"
          ],
          "name": "stdout"
        }
      ]
    },
    {
      "cell_type": "code",
      "metadata": {
        "id": "EN8lEIKJxmRF",
        "colab_type": "code",
        "colab": {}
      },
      "source": [
        "batch_size = 512 #2^8\n",
        "\n",
        "embedding_size = 512 # 2^8 Dimension of the embedding vector.\n",
        "num_inputs =4\n",
        "\n",
        "num_sampled = 128 # Number of negative examples to sample.\n",
        "\n",
        "graph = tf.Graph()\n",
        "\n",
        "with graph.as_default(): #took out \" , tf.device('/cpu:0')\"\n",
        " \n",
        "\n",
        "  train_dataset = tf.placeholder(tf.int32, shape=[batch_size, num_inputs ])\n",
        "  train_labels = tf.placeholder(tf.int32, shape=[batch_size, 1])\n",
        "\n",
        "\n",
        "  epochCount = tf.get_variable( 'epochCount', initializer= 0) #to store epoch count to total # of epochs are known\n",
        "  update_epoch = tf.assign(epochCount, epochCount + 1)\n",
        "\n",
        "  embeddings = tf.get_variable( 'embeddings', \n",
        "    initializer= tf.random_uniform([vocabulary_size, embedding_size], -1.0, 1.0))\n",
        "\n",
        "  softmax_weights = tf.get_variable( 'softmax_weights',\n",
        "    initializer= tf.truncated_normal([vocabulary_size, embedding_size],\n",
        "                         stddev=1.0 / math.sqrt(embedding_size)))\n",
        "  \n",
        "  softmax_biases = tf.get_variable('softmax_biases', \n",
        "    initializer= tf.zeros([vocabulary_size]),  trainable=False )\n",
        "\n",
        "  embed = tf.nn.embedding_lookup(embeddings, train_dataset) #train data set is\n",
        "\n",
        "  embed_reshaped = tf.reshape( embed, [batch_size*num_inputs, embedding_size] )\n",
        "  \n",
        "  segments= np.arange(batch_size).repeat(num_inputs)\n",
        "\n",
        "  averaged_embeds = tf.segment_mean(embed_reshaped, segments, name=None)\n",
        "\n",
        "  loss = tf.reduce_mean(\n",
        "    tf.nn.sampled_softmax_loss(weights=softmax_weights, biases=softmax_biases, inputs=averaged_embeds,\n",
        "                               labels=train_labels, num_sampled=num_sampled, num_classes=vocabulary_size))\n",
        "\n",
        "  optimizer = tf.train.AdagradOptimizer(1.0).minimize(loss) #Original learning rate was 1.0\n",
        "                                                                                                                              \n",
        "  saver = tf.train.Saver()"
      ],
      "execution_count": 0,
      "outputs": []
    },
    {
      "cell_type": "code",
      "metadata": {
        "id": "jcf12Y-4x8OL",
        "colab_type": "code",
        "colab": {}
      },
      "source": [
        "def zipfolder(foldername, target_dir):            \n",
        "    zipobj = zipfile.ZipFile(foldername + '.zip', 'w', zipfile.ZIP_DEFLATED)\n",
        "    rootlen = len(target_dir) + 1\n",
        "    for base, dirs, files in os.walk(target_dir):\n",
        "        for file in files:\n",
        "            fn = os.path.join(base, file)\n",
        "            zipobj.write(fn, fn[rootlen:])"
      ],
      "execution_count": 0,
      "outputs": []
    },
    {
      "cell_type": "code",
      "metadata": {
        "id": "aDigURkRF1TS",
        "colab_type": "code",
        "outputId": "1d0e1ced-bdda-40c4-fd89-c76226406c54",
        "colab": {
          "base_uri": "https://localhost:8080/",
          "height": 35
        }
      },
      "source": [
        "loadModel = input(\"Would you like to load a checkpoint? Type y or n: \") \n",
        "\n",
        "if loadModel == 'y':\n",
        "  auth.authenticate_user()\n",
        "  gauth = GoogleAuth()\n",
        "  gauth.credentials = GoogleCredentials.get_application_default()\n",
        "  drive = GoogleDrive(gauth)\n",
        "  \n",
        "  zip_id = input(\"Enter Gdrive file ID for tensorflow models: \") \n",
        "\n",
        "  if not os.path.exists('checkpointsBook2VecCbowWindow1Downloaded'):\n",
        "      os.makedirs('checkpointsBook2VecCbowWindow1Downloaded')\n",
        "\n",
        "  # DOWNLOAD ZIP\n",
        "  print (\"Downloading zip file\")\n",
        "  myzip = drive.CreateFile({'id': zip_id})\n",
        "  myzip.GetContentFile('model.zip')\n",
        "\n",
        "  # UNZIP ZIP\n",
        "  print (\"Uncompressing zip file\")\n",
        "  zip_ref = zipfile.ZipFile('model.zip', 'r')\n",
        "  zip_ref.extractall('checkpointsBook2VecCbowWindow1Downloaded/')\n",
        "  zip_ref.close()\n",
        "\n",
        "  print( os.getcwd() )\n",
        "  print( os.listdir('./checkpointsBook2VecCbowWindow1Downloaded') )\n",
        "  "
      ],
      "execution_count": 8,
      "outputs": [
        {
          "output_type": "stream",
          "text": [
            "Would you like to load a checkpoint? Type y or n: n\n"
          ],
          "name": "stdout"
        }
      ]
    },
    {
      "cell_type": "code",
      "metadata": {
        "id": "jn9Zvv4PxtXV",
        "colab_type": "code",
        "outputId": "2539dbbe-ae52-4fb0-da6c-ba284a6b27ca",
        "colab": {
          "base_uri": "https://localhost:8080/",
          "height": 237
        }
      },
      "source": [
        "num_steps = 10000000\n",
        "\n",
        "if 'loadModel' not in locals() and 'loadModel' not in globals():\n",
        "  loadModel = 'n'\n",
        "\n",
        "uploadModel = drive.CreateFile() #used to upload checkpoints when graph is run\n",
        "\n",
        "with tf.Session(graph=graph) as session:\n",
        "  \n",
        "  if loadModel == 'y':\n",
        "    saver.restore(session, './checkpointsBook2VecCbowWindow1Downloaded/Research2VecEmbedSize80.ckpt' )\n",
        "  else:  \n",
        "    tf.global_variables_initializer().run() #Don't initalize variables after a checkpoint has been restored\n",
        "  \n",
        "  print('Initialized')\n",
        "  average_loss = 0\n",
        "  saveIteration = 1\n",
        "  for step in range(1, num_steps):\n",
        "    \n",
        "    batch_data, batch_labels = generate_batch(\n",
        "      batch_size, num_inputs)\n",
        "    feed_dict = {train_dataset : batch_data, train_labels : batch_labels}\n",
        "    _, l = session.run([optimizer, loss], feed_dict=feed_dict) \n",
        "\n",
        "    average_loss += l\n",
        "    if step % 8000 == 0:\n",
        "      if step > 0:\n",
        "        average_loss = average_loss / 8000\n",
        "      print('Average loss at step %d: %f' % (step, average_loss))\n",
        "      average_loss = 0\n",
        "      \n",
        "    if step % 50000 == 0:\n",
        "      recEpoch_indexA =  epoch_index - recEpoch_indexA #how much did the epoch_index since it was last checked\n",
        "      for nE in range(0, recEpoch_indexA ):\n",
        "        session.run(update_epoch) #session run calls tend to be huge bottlenecks, keep in mind while determining the frequency\n",
        "      recEpoch_indexA = epoch_index\n",
        "      print('recEpoch_indexA is', recEpoch_indexA)\n",
        "      print( 'epochCount.eval() is ', epochCount.eval() )\n",
        "      print('epoch_index is ' , epoch_index)\n",
        "      \n",
        "      save_path = saver.save(session, \"checkpointsBook2Vec5Inputs/Research2VecEmbedSize80.ckpt\") #Save checkpoint\n",
        "      \n",
        "    #   auth.authenticate_user()\n",
        "    #   gauth = GoogleAuth() #Gdrive authenticion code placed here since it expires after some time\n",
        "    #   gauth.credentials = GoogleCredentials.get_application_default()\n",
        "    #   drive = GoogleDrive(gauth) \n",
        "    #   uploadModel = drive.CreateFile() #Need to also create drive object with updated authenticion\n",
        "      \n",
        "    #   chptName = 'Research2VecEmbedSize80'+str(saveIteration)\n",
        "    #   zipfolder(chptName, 'checkpointsBook2Vec5Inputs')\n",
        "    #   uploadModel.SetContentFile(chptName+\".zip\")\n",
        "    #   uploadModel.Upload()\n",
        "      \n",
        "    #   print(\"Checkpoint uploaded to Google Drive\")\n",
        "    #   saveIteration += 1\n",
        "    #   os.remove(chptName+\".zip\") #Remove checkpoint zip file after upload\n",
        "\n",
        "                \n"
      ],
      "execution_count": 1,
      "outputs": [
        {
          "output_type": "error",
          "ename": "NameError",
          "evalue": "ignored",
          "traceback": [
            "\u001b[0;31m---------------------------------------------------------------------------\u001b[0m",
            "\u001b[0;31mNameError\u001b[0m                                 Traceback (most recent call last)",
            "\u001b[0;32m<ipython-input-1-37019739550c>\u001b[0m in \u001b[0;36m<module>\u001b[0;34m()\u001b[0m\n\u001b[1;32m      4\u001b[0m   \u001b[0mloadModel\u001b[0m \u001b[0;34m=\u001b[0m \u001b[0;34m'n'\u001b[0m\u001b[0;34m\u001b[0m\u001b[0;34m\u001b[0m\u001b[0m\n\u001b[1;32m      5\u001b[0m \u001b[0;34m\u001b[0m\u001b[0m\n\u001b[0;32m----> 6\u001b[0;31m \u001b[0muploadModel\u001b[0m \u001b[0;34m=\u001b[0m \u001b[0mdrive\u001b[0m\u001b[0;34m.\u001b[0m\u001b[0mCreateFile\u001b[0m\u001b[0;34m(\u001b[0m\u001b[0;34m)\u001b[0m \u001b[0;31m#used to upload checkpoints when graph is run\u001b[0m\u001b[0;34m\u001b[0m\u001b[0;34m\u001b[0m\u001b[0m\n\u001b[0m\u001b[1;32m      7\u001b[0m \u001b[0;34m\u001b[0m\u001b[0m\n\u001b[1;32m      8\u001b[0m \u001b[0;32mwith\u001b[0m \u001b[0mtf\u001b[0m\u001b[0;34m.\u001b[0m\u001b[0mSession\u001b[0m\u001b[0;34m(\u001b[0m\u001b[0mgraph\u001b[0m\u001b[0;34m=\u001b[0m\u001b[0mgraph\u001b[0m\u001b[0;34m)\u001b[0m \u001b[0;32mas\u001b[0m \u001b[0msession\u001b[0m\u001b[0;34m:\u001b[0m\u001b[0;34m\u001b[0m\u001b[0;34m\u001b[0m\u001b[0m\n",
            "\u001b[0;31mNameError\u001b[0m: name 'drive' is not defined"
          ]
        }
      ]
    }
  ]
}